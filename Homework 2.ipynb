{
 "metadata": {
  "name": "Homework 2"
 },
 "nbformat": 3,
 "nbformat_minor": 0,
 "worksheets": [
  {
   "cells": [
    {
     "cell_type": "markdown",
     "metadata": {},
     "source": [
      "#P7\n",
      "\n",
      "total = RTT1 +RTT2 + ... + RTTn + 2*RTT0\n",
      "\n",
      "1 RTT0 for a connection request, and one to request the webpage"
     ]
    },
    {
     "cell_type": "raw",
     "metadata": {},
     "source": [
      "#P8\n",
      "#a\n",
      "total = RTT1 +RTT2 + ... + RTTn + 18*RTT0\n",
      "\n",
      "#b\n",
      "total=RTT1 +RTT2 + ... + RTTn + 6*RTT0\n",
      "#2 RTT0 for the html. then 2RTTO for the the first 5 objects being gotten by the paralell connections. Then 2 more for the last 3 objects.\n",
      "\n",
      "#c\n",
      "total = RTT1 +RTT2 + ... + RTTn + 3*RTT0\n",
      "# 2 RTTO for the html, and then one for the persistent connection."
     ]
    },
    {
     "cell_type": "raw",
     "metadata": {},
     "source": [
      "#P23\n",
      "\n",
      "a. If you use a parallel distrobution scheme, with a rate of us/N for each client. This is less than or eaqual to\n",
      "the dmin, as that is given to us in the problem. So idealy each client can recieve at a rate of us/N. From here we see that\n",
      "our file download time is F/(us/N) which equates to NF/us.\n",
      "\n",
      "b.Take the paralell distrobution idea again, but say the rate is dmin for the clients. If this is the case, then the time it takes\n",
      "to download the whole file should be F/dmin.\n",
      "\n",
      "c. In the book we see that Dcs >= Max{NF/us, F/dmin}\n",
      "\n",
      "If us/N<= dmin then from that eqn we can see that Dcs>= NF/us. \n",
      "\n",
      "From the part \"a\" above we see that Dcs<=NF/us.\n",
      "\n",
      "Bring those two together and we get: Dcs = NF/us when us/N<=dmin\n",
      "\n",
      "If us/N>= dmin then from Dcs >= Max{NF/us, F/dmin} we get that\n",
      "Dcs>= F/dmin. From part b above we can then see that Dcs <= F/dmin.\n",
      "\n",
      "Bring them together to get Dcs = F/dmin.\n",
      "\n",
      "From those two equations we can see that Max{NF/us, F/dmin} will give ius the minimum distrobution."
     ]
    },
    {
     "cell_type": "raw",
     "metadata": {},
     "source": [
      "#P28\n",
      "\n",
      "a. Peer 6 sends a message to 15 and asks what the predecessor and successor it will get.  This messages gets forwarded around and eventually reaches peer 5. This peer knows it will be 6's predecessor and that peer 8, its successor, will turn into 6's successor. Peer 5 gets this info to peer 6. Peer 6 joins the DHT group by adjusting its predecessor and successor accordingly. It also informs peer 5 to make 6 its successor."
     ]
    }
   ],
   "metadata": {}
  }
 ]
}